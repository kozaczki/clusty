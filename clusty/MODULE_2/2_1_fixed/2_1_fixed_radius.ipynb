{
 "cells": [
  {
   "cell_type": "markdown",
   "metadata": {},
   "source": [
    "# Module 2_1  - fixed radius\n",
    "\n",
    "**Function:** Prepares intermediate file used by module 2_2 for cluster identification. \n",
    "\n",
    "**Flow:** For each structure and for each bead it extracts bead's neighbourhood, here defined as all bead within certain radius and saves this neigbhourhood as a product of primes.\n",
    "\n",
    "**Input:** population of structures (filename format: cf_XXXXXX.coords.csv, XXXXXX - structure id completed to six zeros), list of primes\n",
    "\n",
    "**Output:** product matrix (full and per bead), frequencies matrix (pairwise cooucurence), binary matrix (pairwise coocurence above certain treshold)\n",
    "\n",
    "**Usage:** Provide path to csv file with variables and run the notebook\n",
    "\n",
    "<img src=\"2_1_fixed_jup.png\" width:800  align=\"right\"/>\n",
    "\n",
    "\n",
    "\n"
   ]
  },
  {
   "cell_type": "markdown",
   "metadata": {},
   "source": [
    "## path to parameters"
   ]
  },
  {
   "cell_type": "code",
   "execution_count": null,
   "metadata": {},
   "outputs": [],
   "source": [
    "### ENTER PATH TO CSV FILE WITH PARAMETERS ###\n",
    "path_to_parameters = ''"
   ]
  },
  {
   "cell_type": "markdown",
   "metadata": {},
   "source": [
    "## libraries"
   ]
  },
  {
   "cell_type": "code",
   "execution_count": null,
   "metadata": {},
   "outputs": [],
   "source": [
    "import numpy as np\n",
    "import scipy.spatial\n",
    "from scipy import sparse\n",
    "import ray\n",
    "import os\n",
    "import time\n",
    "import re\n",
    "import pickle\n",
    "import itertools\n",
    "import seaborn as sns\n",
    "import matplotlib.pyplot as plt\n",
    "import csv\n",
    "import sys"
   ]
  },
  {
   "cell_type": "markdown",
   "metadata": {},
   "source": [
    "## functions"
   ]
  },
  {
   "cell_type": "code",
   "execution_count": null,
   "metadata": {},
   "outputs": [],
   "source": [
    "def chunker(seq, size):\n",
    "    \"\"\"helper funciton for dividing\n",
    "    sequence into chunks of equal size\n",
    "\n",
    "    seq - list to divide\n",
    "    size - size of chunk\n",
    "\n",
    "    \"\"\"\n",
    "    return (seq[pos:pos + size] for pos in range(0, len(seq), size))"
   ]
  },
  {
   "cell_type": "code",
   "execution_count": null,
   "metadata": {},
   "outputs": [],
   "source": [
    "def structure_file_to_distances_matrix(structure_file):\n",
    "\n",
    "    \"\"\"\n",
    "    loads csv file with coordinates(x,y,z) in first three columnd\n",
    "    returns matrix with distances\n",
    "\n",
    "    structure_file - string with path to csv file\n",
    "\n",
    "    \"\"\"\n",
    "\n",
    "    # load csv\n",
    "    csv = np.genfromtxt(structure_file,delimiter=',')\n",
    "\n",
    "    # limit to first theree columns\n",
    "    coordinates = csv[:,:3]\n",
    "\n",
    "    # calculate all distances\n",
    "    distances = scipy.spatial.distance.pdist(coordinates)\n",
    "\n",
    "    # convert distance matrix to square form\n",
    "    distances_matrix = scipy.spatial.distance.squareform(distances)\n",
    "\n",
    "    return distances_matrix"
   ]
  },
  {
   "cell_type": "code",
   "execution_count": null,
   "metadata": {},
   "outputs": [],
   "source": [
    "def get_average_distance_single_structure(borders,distances):\n",
    "\n",
    "    \"\"\"\n",
    "    calculates the average distance between two neighbour beads in single structure - this value can differ dramatically across\n",
    "    single structure as to different chromatin condensation\n",
    "\n",
    "    borders - 1D array or list with first and last indicies of chromosomes coming in order 1,2,3...22,sex chromosome\n",
    "    distances - distance matrix (square form)\n",
    "\n",
    "    \"\"\"\n",
    "\n",
    "    # holders for accumulating distance and number of beads\n",
    "    counter = 0\n",
    "    cumulative_distance = 0\n",
    "\n",
    "    # iterate over chromosome\n",
    "\n",
    "    for i in range(23):\n",
    "        first = borders[i*2] - 1\n",
    "        last = borders[(i*2)+1] - 1\n",
    "        # iterate over beads in chromosome (form 1 to last-1)\n",
    "        for j in range(first,last):\n",
    "\n",
    "            distance = distances[j,j+1]\n",
    "            cumulative_distance += distance\n",
    "            counter += 1\n",
    "\n",
    "    # calculate mean\n",
    "\n",
    "    mean_chromosomal_distance = cumulative_distance/counter\n",
    "\n",
    "    return mean_chromosomal_distance"
   ]
  },
  {
   "cell_type": "code",
   "execution_count": null,
   "metadata": {},
   "outputs": [],
   "source": [
    "def get_average_distance(dataset_folder,n,borders_array):\n",
    "\n",
    "    \"\"\"\n",
    "    calculates the average distance between two neighbour beads in subset of structes\n",
    "\n",
    "    dataset_folder - location of structure files\n",
    "    borders - 1D array or list with first and last indicies of chromosomes coming in order 1,2,3...22,sex chromosome\n",
    "    n - number of structres to be used for calculating the average\n",
    "\n",
    "    \"\"\"\n",
    "\n",
    "    # raed dataset folder content\n",
    "    files = os.listdir(dataset_folder)\n",
    "\n",
    "    #variable to accumulate sum\n",
    "    average_distances_sum = 0\n",
    "\n",
    "    #process n files from dataset folder\n",
    "\n",
    "    for file in files[:n]:\n",
    "\n",
    "        #build path for file\n",
    "        structure_file = os.path.join(dataset_folder,file)\n",
    "\n",
    "        #prepare distance matrix for the file(structure)\n",
    "        distances = structure_file_to_distances_matrix(structure_file)\n",
    "\n",
    "        #calculate avergae distance for the file (one structure)\n",
    "        average_distance = get_average_distance_single_structure(borders_array,distances)\n",
    "\n",
    "        #add obtain average structue to accumulating result\n",
    "        average_distances_sum = average_distances_sum + average_distance\n",
    "\n",
    "    #calculate and return average distance in n structures\n",
    "    average_distance = average_distances_sum / n\n",
    "    return average_distance"
   ]
  },
  {
   "cell_type": "code",
   "execution_count": null,
   "metadata": {},
   "outputs": [],
   "source": [
    "def get_max(sparse_matrices_list):\n",
    "    \"\"\"\n",
    "\n",
    "\n",
    "    \"\"\"\n",
    "    maximum = 0\n",
    "    for matrix in sparse_matrices_list:\n",
    "        if matrix[0].shape[1] > maximum:\n",
    "            maximum = matrix[0].shape[1]\n",
    "    return maximum"
   ]
  },
  {
   "cell_type": "code",
   "execution_count": null,
   "metadata": {},
   "outputs": [],
   "source": [
    "@ray.remote\n",
    "def structure_to_neigbours(structure_file,radius_c,num):\n",
    "\n",
    "    \"\"\"\n",
    "    takes a csv file of a single structure and return a matrix with neighbours within radius\n",
    "    as sparse matrix, together with csv id number\n",
    "\n",
    "    \"\"\"\n",
    "\n",
    "\n",
    "\n",
    "    # distance matrix\n",
    "    dist_mat = structure_file_to_distances_matrix(structure_file)\n",
    "    distances_matrix_sorted = np.sort(dist_mat, axis = 1)\n",
    "\n",
    "    # distance matrix args + 1 -> fbead numbers\n",
    "    distances_matrix_sorted_args = np.argsort(dist_mat, axis = 1) + 1 # sort gives indicies of beads so to get ids -> + 1\n",
    "\n",
    "    # get number of beads within treshold per bead\n",
    "    numbers_of_beads_within_treshold = (distances_matrix_sorted <= radius_c).sum(axis = 1)\n",
    "\n",
    "\n",
    "    # prepare matrix for neigbours\n",
    "    first_dimension = dist_mat.shape[0] # number of beads in structure - could be replaced here\n",
    "    second_dimension = numbers_of_beads_within_treshold.max() - 1 #because first arg is the origin bead\n",
    "    neighbours_in_structure = np.zeros((first_dimension,second_dimension),dtype = np.ushort)\n",
    "\n",
    "    for i in range(first_dimension):\n",
    "            beads_within_treshold = numbers_of_beads_within_treshold[i]\n",
    "            bead_neighbours = distances_matrix_sorted_args[i,1:beads_within_treshold] #start at 1 as 0 is the origin bead (self)\n",
    "            neighbours_in_structure[i] = np.pad(bead_neighbours,(0,second_dimension - beads_within_treshold + 1),constant_values = 0) #adjust shape to second dimension\n",
    "            sparse_neighbours = sparse.csr_matrix(neighbours_in_structure)\n",
    "    return sparse_neighbours,num"
   ]
  },
  {
   "cell_type": "code",
   "execution_count": null,
   "metadata": {},
   "outputs": [],
   "source": [
    "def prepare_file_name(number):\n",
    "    name = 'cf_' + number.zfill(6) + '.coords.csv'\n",
    "    return name"
   ]
  },
  {
   "cell_type": "markdown",
   "metadata": {},
   "source": [
    "## loading parameters, building folders"
   ]
  },
  {
   "cell_type": "code",
   "execution_count": null,
   "metadata": {},
   "outputs": [],
   "source": [
    "# start time to trace execution time\n",
    "\n",
    "start_all = time.time()\n"
   ]
  },
  {
   "cell_type": "code",
   "execution_count": null,
   "metadata": {},
   "outputs": [],
   "source": [
    "# load paramaters from csv file \n",
    "\n",
    "# parse csv file with parameters\n",
    "paramaters = []\n",
    "with open(path_to_parameters, 'rt') as csvfile:\n",
    "    reader = csv.reader(csvfile, skipinitialspace=True)\n",
    "    paramaters.append(list(reader))\n",
    "    csvfile.close()\n",
    "\n",
    "#list with setup parameters\n",
    "params = paramaters[0]    "
   ]
  },
  {
   "cell_type": "code",
   "execution_count": null,
   "metadata": {},
   "outputs": [],
   "source": [
    "# check if correct mode\n",
    "\n",
    "mode = params[8][1]\n",
    "\n",
    "if mode == 'neighbours':\n",
    "    print(\"incorrect mode - use either fixed radius mode or 3_1_neighbours\")"
   ]
  },
  {
   "cell_type": "code",
   "execution_count": null,
   "metadata": {},
   "outputs": [],
   "source": [
    "#assign setup variebles from params\n",
    "\n",
    "home = params[0][1]\n",
    "number_of_structures = int(params[1][1])\n",
    "number_of_beads_per_structure = int(params[2][1])\n",
    "fraction = float(params[3][1])\n",
    "structures_fraction = number_of_structures * fraction\n",
    "cores = int(params[4][1])\n",
    "r_factor  = float(params[5][1])\n",
    "dataset_name =  params[6][1]\n",
    "dataset_folder =  params[7][1]\n",
    "primes_file = params[10][1]\n",
    "borders_file = params[9][1]\n",
    "\n",
    "\n"
   ]
  },
  {
   "cell_type": "code",
   "execution_count": null,
   "metadata": {},
   "outputs": [],
   "source": [
    "# compose analysis name\n",
    "\n",
    "analysis_name = dataset_name + '_fixed_radius_' + str(r_factor)\n"
   ]
  },
  {
   "cell_type": "code",
   "execution_count": null,
   "metadata": {},
   "outputs": [],
   "source": [
    "# print setup variables for manual inspection\n",
    "print(\"\")\n",
    "print(\"preprocessing structures for fixed radius neighbourhood\")\n",
    "print(\"\")\n",
    "\n",
    "print(\"loaded setup variables\")\n",
    "print(\"\")\n",
    "print(\"dataset name: \" + dataset_name + '\\n')\n",
    "print(\"analysis name: \" + analysis_name + '\\n')\n",
    "\n",
    "\n",
    "\n",
    "print(\"home folder: \" + home)\n",
    "print(\"dataset folder: \" + dataset_folder)\n",
    "print(\"number of structures: \" + str(number_of_structures))\n",
    "print(\"number of beads per structure: \" + str(number_of_beads_per_structure))\n",
    "print(\"fraction: \" + str(fraction))\n",
    "print(\"radius factor: \" + str(r_factor))\n",
    "print(\"cores: \" + str(cores))\n",
    "print(\"primes file: \" + str(primes_file))\n",
    "print(\"borders file: \" + str(borders_file))\n",
    "\n",
    "\n",
    "\n",
    "print(\"\")"
   ]
  },
  {
   "cell_type": "code",
   "execution_count": null,
   "metadata": {},
   "outputs": [],
   "source": [
    "# define regex patter for csv files\n",
    "pattern = '^(.*)cf_(.*).coords.csv$'"
   ]
  },
  {
   "cell_type": "code",
   "execution_count": null,
   "metadata": {},
   "outputs": [],
   "source": [
    "# build paths for helper data files\n",
    "\n",
    "helper_folder = os.path.join(home,'helper_data')\n",
    "\n",
    "# load and process helper data\n",
    "\n",
    "    # primes array\n",
    "\n",
    "primes_array = np.load(os.path.join(helper_folder,primes_file),allow_pickle=True)\n",
    "\n",
    "    # chromosomal borders array\n",
    "\n",
    "chromosomal_borders = np.load(os.path.join(helper_folder,borders_file),allow_pickle=True)\n",
    "\n",
    "    # transform borders matrix into 1D\n",
    "\n",
    "borders_array = np.unique(chromosomal_borders)\n"
   ]
  },
  {
   "cell_type": "code",
   "execution_count": null,
   "metadata": {},
   "outputs": [],
   "source": [
    "# build folders structure\n",
    "\n",
    "run_folder = os.path.join(home,'runs',analysis_name)\n",
    "intermediate_files_folder = os.path.join(run_folder,'intermediate')\n",
    "product_folder = os.path.join(intermediate_files_folder,\"products\")\n",
    "results_folder = os.path.join(run_folder,'results')\n",
    "figures_folder = os.path.join(run_folder,'figures')\n",
    "\n",
    "print(\"building folders structure for the run\\n\")\n",
    "\n",
    "\n",
    "folders = [run_folder,intermediate_files_folder,product_folder,results_folder,figures_folder]\n",
    "\n",
    "for folder in folders:\n",
    "    try:\n",
    "        os.mkdir(folder)\n",
    "        print(\"Directory \" , folder ,  \" Created \")\n",
    "    except FileExistsError:\n",
    "        print(\"Directory \" , folder ,  \" already exists\")\n",
    "\n",
    "print(\"\")"
   ]
  },
  {
   "cell_type": "markdown",
   "metadata": {},
   "source": [
    "## calculate distance for neighbourhood definition"
   ]
  },
  {
   "cell_type": "code",
   "execution_count": null,
   "metadata": {},
   "outputs": [],
   "source": [
    "#calculate average distance in 100 structures\n",
    "\n",
    "print(\"calculating the average radius used for defining neighbourhood\")\n",
    "print(\"\")\n",
    "\n",
    "av_distance = get_average_distance(dataset_folder,100,borders_array)\n",
    "\n",
    "print(\"average distance betweem two neighbouring beads: \" + str(av_distance))\n",
    "print(\"\")\n",
    "\n",
    "#radius_cutoff <- used to define neighbourhood\n",
    "\n",
    "radius_cutoff = av_distance * r_factor\n",
    "\n",
    "print(\"radius used: \" + str(radius_cutoff))"
   ]
  },
  {
   "cell_type": "code",
   "execution_count": null,
   "metadata": {},
   "outputs": [],
   "source": [
    "# start multiprocessing\n",
    "\n",
    "ray.init()"
   ]
  },
  {
   "cell_type": "code",
   "execution_count": null,
   "metadata": {},
   "outputs": [],
   "source": [
    "# process csvs\n",
    "\n",
    "files = os.listdir(dataset_folder)"
   ]
  },
  {
   "cell_type": "markdown",
   "metadata": {},
   "source": [
    "## extract neighbourhoods"
   ]
  },
  {
   "cell_type": "code",
   "execution_count": null,
   "metadata": {},
   "outputs": [],
   "source": [
    "sparse_matrices = []\n",
    "\n",
    "for numbers_chunk in chunker(list(range(1,(number_of_structures+1))),cores):\n",
    "    ids = [structure_to_neigbours.remote(os.path.join(dataset_folder,prepare_file_name(str(number))),radius_cutoff,number) for number in numbers_chunk]\n",
    "    partial_results = ray.get(ids)\n",
    "    sparse_matrices.append(partial_results)\n",
    "\n",
    "print(time.time() - start_all)"
   ]
  },
  {
   "cell_type": "code",
   "execution_count": null,
   "metadata": {},
   "outputs": [],
   "source": [
    "# put all matrices in one list\n",
    "\n",
    "final_list = sparse_matrices[0]\n",
    "for i in range(1,len(sparse_matrices)):\n",
    "    final_list = list(itertools.chain(final_list,sparse_matrices[i]))"
   ]
  },
  {
   "cell_type": "code",
   "execution_count": null,
   "metadata": {},
   "outputs": [],
   "source": [
    "# print length of the matrices list\n",
    "\n",
    "print(\"Final list of neighbourhoods contains \" + str(len(final_list)) + \" elements\")"
   ]
  },
  {
   "cell_type": "code",
   "execution_count": null,
   "metadata": {},
   "outputs": [],
   "source": [
    "# save matrices -> intermediate/dataset_name/_sparse_neighbour_matrices_list\n",
    "\n",
    "file_to_store = open(os.path.join(intermediate_files_folder,analysis_name + '_sparse_neighbour_matrices_list') , \"wb\")\n",
    "pickle.dump(final_list, file_to_store)\n",
    "file_to_store.close()"
   ]
  },
  {
   "cell_type": "markdown",
   "metadata": {},
   "source": [
    "## build one matrix containing all neighbourhoods"
   ]
  },
  {
   "cell_type": "code",
   "execution_count": null,
   "metadata": {},
   "outputs": [],
   "source": [
    "# build matrix with neighbourhoods - all beads across all structures -> to be used for products\n",
    "# values in  neigbhours correspond to beads ids\n",
    "\n",
    "\n",
    "def get_max(sparse_matrices_list):\n",
    "    maximum = 0\n",
    "    for matrix in sparse_matrices_list:\n",
    "        if matrix[0].shape[1] > maximum:\n",
    "            maximum = matrix[0].shape[1]\n",
    "    return maximum\n",
    "neigbours_max = get_max(final_list)\n",
    "\n",
    "neigbhours = np.zeros((number_of_structures,number_of_beads_per_structure,neigbours_max),dtype = int)"
   ]
  },
  {
   "cell_type": "code",
   "execution_count": null,
   "metadata": {},
   "outputs": [],
   "source": [
    "# keeps ids\n",
    "\n",
    "for x in range(number_of_structures):\n",
    "    structure_x = final_list[x][0]\n",
    "    structure_x_dense = sparse.csc_matrix.todense(structure_x)\n",
    "    shape = np.shape(structure_x_dense)\n",
    "    padded_array = np.zeros((number_of_beads_per_structure, neigbours_max))\n",
    "    padded_array[:shape[0],:shape[1]] = structure_x_dense\n",
    "    neigbhours[x] = padded_array"
   ]
  },
  {
   "cell_type": "markdown",
   "metadata": {},
   "source": [
    "## prepare frequency matrix and binary matrix"
   ]
  },
  {
   "cell_type": "code",
   "execution_count": null,
   "metadata": {},
   "outputs": [],
   "source": [
    "# here goes to indexes\n",
    "\n",
    "frequencies = np.zeros((number_of_beads_per_structure,number_of_beads_per_structure),dtype = int)\n",
    "\n",
    "# prepare coocurence matrix based on neigbhours matrix\n",
    "\n",
    "#iterate over beads dimension in neighbourhood matrix\n",
    "for x in range(number_of_beads_per_structure):\n",
    "\n",
    "    # get neighbourhood for bead x across all structures\n",
    "    bead_x_all_structures = neigbhours[:,x,:]\n",
    "    # get occurences of beads in bead x neighbourhood across all structures\n",
    "    val, counts = np.unique(bead_x_all_structures,return_counts=True)\n",
    "\n",
    "    # assign values to frequencies matrix\n",
    "    for i in range(len(val)):\n",
    "        if val[i] != 0:\n",
    "            frequencies[x,val[i]-1] = counts[i] # i - 1 becuese in neigbhours matrix values are correspondingto bead ids, whereas in frequencies it goes by indexes\n",
    "\n"
   ]
  },
  {
   "cell_type": "code",
   "execution_count": null,
   "metadata": {},
   "outputs": [],
   "source": [
    "# binary matrix <- used in module 3_2 to identify clusters, generate from frequencies matrix, if values is above treshold binary matirx get 1, otherwise 0\n",
    "\n",
    "binary = np.zeros((number_of_beads_per_structure,number_of_beads_per_structure),dtype = int)\n",
    "for x in range(number_of_beads_per_structure):\n",
    "    for y in range(number_of_beads_per_structure):\n",
    "        if frequencies[x,y] >= structures_fraction:\n",
    "            binary[x,y]=1\n"
   ]
  },
  {
   "cell_type": "markdown",
   "metadata": {},
   "source": [
    "## convert neighbourhoods to products of primes"
   ]
  },
  {
   "cell_type": "code",
   "execution_count": null,
   "metadata": {},
   "outputs": [],
   "source": [
    "# get product\n",
    "\n",
    "primes = primes_array\n",
    "\n",
    "# bead numbers         [1,2,3,4,5]\n",
    "# primes_array indexes [0,1,2,3,4]\n",
    "# primes               [2,3,5,7,11]\n",
    "\n",
    "\n",
    "# matrix to hold products\n",
    "\n",
    "products = np.zeros((number_of_structures,number_of_beads_per_structure),dtype = object)\n",
    "\n",
    "\n",
    "# iterate over structures\n",
    "\n",
    "for x in range(len(final_list)): # structures\n",
    "\n",
    "    # load structure x\n",
    "    structure_x = final_list[x][0]\n",
    "    # convert from sparse to dense\n",
    "    structure_x_dense = sparse.csc_matrix.todense(structure_x)\n",
    "    # get shape for conversion to primes\n",
    "    shape = np.shape(structure_x_dense)\n",
    "    second_dimension = shape[1]\n",
    "    # matirx for primes\n",
    "    beads_as_primes = np.zeros((number_of_beads_per_structure,second_dimension),dtype = object)\n",
    "\n",
    "    # for each bead\n",
    "    for i in range(number_of_beads_per_structure):\n",
    "        # for each of the neighbours\n",
    "        for j in range(second_dimension):\n",
    "            bead = structure_x_dense[i,j]\n",
    "            # if 0 than no neigbour\n",
    "            if bead == 0:\n",
    "                # 1 multiplying by 1 will not change product\n",
    "                beads_as_primes[i,j] = 1\n",
    "            else:\n",
    "                beads_as_primes[i,j] = primes[bead - 1] # as below\n",
    "                # bead numbers         [1,2,3,4,5]\n",
    "                # primes_array indexes [0,1,2,3,4]\n",
    "                # primes               [2,3,5,7,11]\n",
    "\n",
    "    # obtain neighbourhoods as products\n",
    "    product_str_x = np.prod(beads_as_primes,axis = 1)\n",
    "    # assign to products matrix\n",
    "    products[x] = product_str_x\n",
    "\n",
    "# save full product\n",
    "\n",
    "np.save(product_folder + '/product_full', products)\n",
    "\n",
    "# save products by beads (for module 3_2)\n",
    "for b in range(number_of_beads_per_structure):\n",
    "    prod_bead = products[:,b]\n",
    "    np.save(product_folder + '/prod_' + str(b+1),prod_bead)\n"
   ]
  },
  {
   "cell_type": "markdown",
   "metadata": {},
   "source": [
    "## prepare figurs and save files"
   ]
  },
  {
   "cell_type": "code",
   "execution_count": null,
   "metadata": {},
   "outputs": [],
   "source": [
    "# prepare figure for frequencies\n",
    "\n",
    "sns.set_theme()\n",
    "fig, ax = plt.subplots(figsize=(20,15))\n",
    "ax = sns.heatmap(frequencies)\n",
    "fig.savefig(os.path.join(figures_folder,analysis_name + '_frequencies.png'))"
   ]
  },
  {
   "cell_type": "code",
   "execution_count": null,
   "metadata": {},
   "outputs": [],
   "source": [
    "# prepare figure for binaryy\n",
    "\n",
    "\n",
    "sns.set_theme()\n",
    "fig, ax = plt.subplots(figsize=(20,15))\n",
    "ax = sns.heatmap(binary)\n",
    "fig.savefig(os.path.join(figures_folder,analysis_name + '_binary.png'))"
   ]
  },
  {
   "cell_type": "code",
   "execution_count": null,
   "metadata": {},
   "outputs": [],
   "source": [
    "#  SAVE FILES frequencies and binaries\n",
    "\n",
    "np.save(os.path.join(intermediate_files_folder,analysis_name + '_binary'),binary)\n",
    "np.save(os.path.join(intermediate_files_folder,analysis_name + '_frequencies'),frequencies)"
   ]
  }
 ],
 "metadata": {
  "kernelspec": {
   "display_name": "Python 3 (ipykernel)",
   "language": "python",
   "name": "python3"
  },
  "language_info": {
   "codemirror_mode": {
    "name": "ipython",
    "version": 3
   },
   "file_extension": ".py",
   "mimetype": "text/x-python",
   "name": "python",
   "nbconvert_exporter": "python",
   "pygments_lexer": "ipython3",
   "version": "3.8.10"
  }
 },
 "nbformat": 4,
 "nbformat_minor": 4
}
