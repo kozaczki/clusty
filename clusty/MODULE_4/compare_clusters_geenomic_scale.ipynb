{
 "cells": [
  {
   "cell_type": "markdown",
   "id": "0a498912",
   "metadata": {},
   "source": [
    "## Clusters Distribution - Genomic view"
   ]
  },
  {
   "cell_type": "code",
   "execution_count": null,
   "id": "0cd79764",
   "metadata": {},
   "outputs": [],
   "source": [
    "import numpy as np\n",
    "import pickle\n",
    "import matplotlib.pyplot as plt"
   ]
  },
  {
   "cell_type": "markdown",
   "id": "bd1f9a75",
   "metadata": {},
   "source": [
    "### Cluster numbers (diversity)"
   ]
  },
  {
   "cell_type": "code",
   "execution_count": null,
   "id": "2f270ab9",
   "metadata": {},
   "outputs": [],
   "source": [
    "line_1_neighbours = '/exchange/PROJECT/runs/HAP1_10000_neighbours_10/results/HAP1_10000_neighbours_10_clusters_simple_filtered'\n",
    "line_1_neighbours_file =open(line_1_neighbours,'rb')\n",
    "line_1_neighbours= pickle.load(line_1_neighbours_file)"
   ]
  },
  {
   "cell_type": "code",
   "execution_count": null,
   "id": "0a9edb24",
   "metadata": {},
   "outputs": [],
   "source": [
    "line_2_neighbours  = '/exchange/PROJECT/runs/HAP1_10000G_neighbours_10/results/HAP1_10000G_neighbours_10_clusters_simple_filtered'\n",
    "line_2_neighbours_file =open(line_2_neighbours ,'rb')\n",
    "line_2_neighbours  = pickle.load(line_2_neighbours_file )"
   ]
  },
  {
   "cell_type": "code",
   "execution_count": null,
   "id": "503f1ec9",
   "metadata": {},
   "outputs": [],
   "source": [
    "line_1_num = np.array([len(i[1]) for i in line_1_neighbours])\n",
    "line_2_num = np.array([len(i[1]) for i in line_2_neighbours])"
   ]
  },
  {
   "cell_type": "code",
   "execution_count": null,
   "id": "25d35147",
   "metadata": {},
   "outputs": [],
   "source": [
    "number_of_beads_per_structure = 3043"
   ]
  },
  {
   "cell_type": "markdown",
   "id": "195a0265",
   "metadata": {},
   "source": [
    "### Cluster frequency"
   ]
  },
  {
   "cell_type": "code",
   "execution_count": null,
   "id": "ab73fbd5",
   "metadata": {},
   "outputs": [],
   "source": [
    "line_1_distro = np.load('/exchange/PROJECT/runs/HAP1_10000_neighbours_10/intermediate/HAP1_10000_neighbours_10_distro_matrix.npy')"
   ]
  },
  {
   "cell_type": "code",
   "execution_count": null,
   "id": "b90fd5a1",
   "metadata": {},
   "outputs": [],
   "source": [
    "line_2_distro = np.load('/exchange/PROJECT/runs/HAP1_10000G_neighbours_10/intermediate/HAP1_10000G_neighbours_10_distro_matrix.npy')"
   ]
  },
  {
   "cell_type": "code",
   "execution_count": null,
   "id": "335615c2",
   "metadata": {},
   "outputs": [],
   "source": [
    "line_1_freq = line_1_distro.sum(axis = 0)[:number_of_beads_per_structure]"
   ]
  },
  {
   "cell_type": "code",
   "execution_count": null,
   "id": "92b04b2a",
   "metadata": {},
   "outputs": [],
   "source": [
    "line_2_freq = line_2_distro.sum(axis = 0)[:number_of_beads_per_structure]"
   ]
  },
  {
   "cell_type": "code",
   "execution_count": null,
   "id": "b8efd22c",
   "metadata": {},
   "outputs": [],
   "source": [
    "fig,ax = plt.subplots(2,2,figsize = (20,15))\n",
    "ax[0][0].scatter(range(1,3044),line_1_num)\n",
    "ax[0][1].scatter(range(1,3044),line_2_num)\n",
    "ax[1][0].scatter(range(1,3044),line_1_freq)\n",
    "ax[1][1].scatter(range(1,3044),line_2_freq)"
   ]
  },
  {
   "cell_type": "code",
   "execution_count": null,
   "id": "05bf7e94",
   "metadata": {},
   "outputs": [],
   "source": [
    "fig,ax = plt.subplots(2,1,figsize = (20,10))\n",
    "ax[1].plot(line_2_num - line_1_num)\n",
    "ax[0].plot(line_2_freq - line_1_freq)"
   ]
  },
  {
   "cell_type": "code",
   "execution_count": null,
   "id": "342328a1",
   "metadata": {},
   "outputs": [],
   "source": [
    "fig,ax = plt.subplots(2,1, figsize = (20,10))\n",
    "ax[0].scatter(line_1_num,line_1_freq)\n",
    "ax[0].set_xlim(0,1100)\n",
    "ax[1].scatter(line_2_num,line_2_freq)\n",
    "ax[1].set_xlim(0,1100)"
   ]
  }
 ],
 "metadata": {
  "kernelspec": {
   "display_name": "Python 3 (ipykernel)",
   "language": "python",
   "name": "python3"
  },
  "language_info": {
   "codemirror_mode": {
    "name": "ipython",
    "version": 3
   },
   "file_extension": ".py",
   "mimetype": "text/x-python",
   "name": "python",
   "nbconvert_exporter": "python",
   "pygments_lexer": "ipython3",
   "version": "3.8.10"
  }
 },
 "nbformat": 4,
 "nbformat_minor": 5
}
