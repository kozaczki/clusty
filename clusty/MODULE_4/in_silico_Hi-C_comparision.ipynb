{
 "cells": [
  {
   "cell_type": "markdown",
   "id": "959e2dda",
   "metadata": {},
   "source": [
    "## in silico Hi-C analysis\n",
    "\n",
    "Comparision of two in silico Hi-C matrices\n",
    "\n",
    "To analyze different or more matrices notebook needs to be modified accordingly"
   ]
  },
  {
   "cell_type": "markdown",
   "id": "e5f5a5b4",
   "metadata": {},
   "source": [
    "### Libraries"
   ]
  },
  {
   "cell_type": "code",
   "execution_count": null,
   "id": "66978f68",
   "metadata": {},
   "outputs": [],
   "source": [
    "import numpy as np\n",
    "import seaborn as sns\n",
    "import matplotlib.pyplot as plt\n",
    "from scipy import sparse\n",
    "import pickle"
   ]
  },
  {
   "cell_type": "markdown",
   "id": "8d238eae",
   "metadata": {},
   "source": [
    "### Load in silico matrices"
   ]
  },
  {
   "cell_type": "code",
   "execution_count": null,
   "id": "51f80f72",
   "metadata": {},
   "outputs": [],
   "source": [
    "line_1_name = 'HAP1'\n",
    "line_2_name = 'HAP1G'"
   ]
  },
  {
   "cell_type": "code",
   "execution_count": null,
   "id": "03ebed42",
   "metadata": {},
   "outputs": [],
   "source": [
    "line_1_matrix = sparse.csr_matrix.todense(sparse.load_npz('/exchange/PROJECT/runs/HAP1_10000_inSilico_5/results/HIC_matrix_HAP1_10000_inSilico_5.npz'))\n",
    "line_2_matrix = sparse.csr_matrix.todense(sparse.load_npz('/exchange/PROJECT/runs/HAP1_10000G_inSilico_5/results/HIC_matrix_HAP1_10000G_inSilico_5.npz'))"
   ]
  },
  {
   "cell_type": "code",
   "execution_count": null,
   "id": "4cd3f750",
   "metadata": {},
   "outputs": [],
   "source": [
    "borders_file = '/exchange/PROJECT/helper_data/borders3043.npy'"
   ]
  },
  {
   "cell_type": "code",
   "execution_count": null,
   "id": "cb5aa5b1",
   "metadata": {},
   "outputs": [],
   "source": [
    "num_of_beads_per_structure = 3043"
   ]
  },
  {
   "cell_type": "markdown",
   "id": "c8a38656",
   "metadata": {},
   "source": [
    "## Plot matrices"
   ]
  },
  {
   "cell_type": "markdown",
   "id": "65c498d9",
   "metadata": {},
   "source": [
    "### HAP1"
   ]
  },
  {
   "cell_type": "code",
   "execution_count": null,
   "id": "05e8d837",
   "metadata": {},
   "outputs": [],
   "source": [
    "sns.set_theme()\n",
    "fig, ax = plt.subplots(figsize=(20,15))         \n",
    "ax = sns.heatmap(line_1_matrix)\n",
    "#fig.savefig('')"
   ]
  },
  {
   "cell_type": "markdown",
   "id": "fb6a3bb5",
   "metadata": {},
   "source": [
    "### HAP1G"
   ]
  },
  {
   "cell_type": "code",
   "execution_count": null,
   "id": "bb298457",
   "metadata": {},
   "outputs": [],
   "source": [
    "sns.set_theme()\n",
    "fig, ax = plt.subplots(figsize=(20,15))         \n",
    "ax = sns.heatmap(line_2_matrix)\n",
    "#fig.savefig('')"
   ]
  },
  {
   "cell_type": "markdown",
   "id": "f47918f0",
   "metadata": {},
   "source": [
    "### back-to-back comparision of HAP1 and HAP1G"
   ]
  },
  {
   "cell_type": "code",
   "execution_count": null,
   "id": "f0944cca",
   "metadata": {},
   "outputs": [],
   "source": [
    "fig,ax = plt.subplots(2,2,figsize = (8.27,11.69),dpi = 450)\n",
    "sns.set(font_scale=0.5)\n",
    "sns.heatmap(line_1_matrix, ax = ax[0][0],cbar_kws = dict(use_gridspec=False,location=\"top\"),annot_kws={\"size\":1})\n",
    "sns.heatmap(line_2_matrix, ax = ax[0][1],cbar_kws = dict(use_gridspec=False,location=\"top\"),annot_kws={\"size\":1})\n",
    "sns.heatmap(line_2_matrix-line_1_matrix,vmin = 0, ax = ax[1][0],cbar_kws = dict(use_gridspec=False,location=\"top\"),annot_kws={\"size\":1})\n",
    "sns.heatmap(line_1_matrix-line_2_matrix, vmin = 0,ax = ax[1][1],cbar_kws = dict(use_gridspec=False,location=\"top\"),annot_kws={\"size\":1})\n",
    "#fig.savefig('')"
   ]
  },
  {
   "cell_type": "markdown",
   "id": "931b1377",
   "metadata": {},
   "source": [
    "### HAP1G - HAP1 (total)"
   ]
  },
  {
   "cell_type": "code",
   "execution_count": null,
   "id": "e51c08db",
   "metadata": {},
   "outputs": [],
   "source": [
    "sns.set_theme()\n",
    "# figsize in inches\n",
    "fig, ax = plt.subplots(figsize=(20,15))         \n",
    "ax = sns.heatmap(line_2_matrix-line_1_matrix)"
   ]
  },
  {
   "cell_type": "markdown",
   "id": "30831883",
   "metadata": {},
   "source": [
    "### HAP1G - HAP1 (increase in HAP1G)"
   ]
  },
  {
   "cell_type": "code",
   "execution_count": null,
   "id": "43fbb2fa",
   "metadata": {},
   "outputs": [],
   "source": [
    "sns.set_theme()\n",
    "fig, ax = plt.subplots(figsize=(20,15))         \n",
    "ax = sns.heatmap(line_2_matrix-line_1_matrix,vmin = 0)\n",
    "#fig.savefig('')"
   ]
  },
  {
   "cell_type": "markdown",
   "id": "16a1e0d4",
   "metadata": {},
   "source": [
    "### HAP1 - HAP1G (total)"
   ]
  },
  {
   "cell_type": "code",
   "execution_count": null,
   "id": "11931d41",
   "metadata": {},
   "outputs": [],
   "source": [
    "sns.set_theme()\n",
    "\n",
    "fig, ax = plt.subplots(figsize=(20,15))         \n",
    "ax = sns.heatmap(line_1_matrix-line_2_matrix)\n",
    "#fig.savefig('')"
   ]
  },
  {
   "cell_type": "markdown",
   "id": "fa926b28",
   "metadata": {},
   "source": [
    "### HAP1 - HAP1G (increase in HAP1)"
   ]
  },
  {
   "cell_type": "code",
   "execution_count": null,
   "id": "d55ea5b5",
   "metadata": {},
   "outputs": [],
   "source": [
    "sns.set_theme()\n",
    "fig, ax = plt.subplots(figsize=(20,15))         \n",
    "ax = sns.heatmap(line_1_matrix-line_2_matrix,vmin = 0)\n",
    "#fig.savefig('')"
   ]
  },
  {
   "cell_type": "markdown",
   "id": "72add799",
   "metadata": {},
   "source": [
    "### Trans (interchromosomal interactions) and cis (intrachromosomal interactions)"
   ]
  },
  {
   "cell_type": "code",
   "execution_count": null,
   "id": "cbe5ca0e",
   "metadata": {},
   "outputs": [],
   "source": [
    "borders = np.load(borders_file)\n",
    "limits = list(np.unique(borders))\n",
    "chromosomal_limits = []\n",
    "\n",
    "for i in range(23):\n",
    "    first_bead = limits[i*2]\n",
    "    last_bead = limits[i*2+1]\n",
    "    chromosomal_limits.append((first_bead,last_bead))"
   ]
  },
  {
   "cell_type": "code",
   "execution_count": null,
   "id": "8a93c596",
   "metadata": {},
   "outputs": [],
   "source": [
    "def cis_trans(bead,borders_array,hic):\n",
    "    first_index = borders_array[bead][0]\n",
    "    last_index = borders_array[bead][1]\n",
    "    cis = hic[bead,first_index:last_index+1].sum() \n",
    "    trans = hic[bead,0:first_index].sum() +  hic[bead,last_index+1:].sum()\n",
    "    return (cis,trans)\n",
    "    "
   ]
  },
  {
   "cell_type": "code",
   "execution_count": null,
   "id": "19880c8f",
   "metadata": {},
   "outputs": [],
   "source": [
    "line_1_cis= [cis_trans(i,borders,line_1_matrix)[0] for i in range(num_of_beads_per_structure)]"
   ]
  },
  {
   "cell_type": "code",
   "execution_count": null,
   "id": "8cae5f6e",
   "metadata": {},
   "outputs": [],
   "source": [
    "line_1_trans = [cis_trans(i,borders,line_1_matrix)[1] for i in range(num_of_beads_per_structure)]"
   ]
  },
  {
   "cell_type": "code",
   "execution_count": null,
   "id": "2bbf47e4",
   "metadata": {},
   "outputs": [],
   "source": [
    "line_2_cis = [cis_trans(i,borders,line_2_matrix)[0] for i in range(num_of_beads_per_structure)]\n",
    "line_2_trans = [cis_trans(i,borders,line_2_matrix)[1] for i in range(num_of_beads_per_structure)]"
   ]
  },
  {
   "cell_type": "markdown",
   "id": "ab3531d8",
   "metadata": {},
   "source": [
    "### cis - genomic scale"
   ]
  },
  {
   "cell_type": "code",
   "execution_count": null,
   "id": "2747bcff",
   "metadata": {},
   "outputs": [],
   "source": [
    "fig,ax = plt.subplots(2,1,figsize = (8.27,8.69),dpi = 450)\n",
    "\n",
    "\n",
    "\n",
    "ax[0].plot(range(1,num_of_beads_per_structure + 1),line_1_cis,color = 'blue')\n",
    "ax[0].plot(range(1,num_of_beads_per_structure + 1),line_2_cis,color = 'orange')\n",
    "ax[0].set_xlabel('Genomic Position',fontsize = 7)\n",
    "ax[0].set_ylabel('number of cis contacts',fontsize = 10)\n",
    "ax[0].set_title('Number of cis contacts genome scale',fontsize = 10)             \n",
    "\n",
    "ax[1].plot(range(1,num_of_beads_per_structure + 1),line_1_trans,color = 'blue')\n",
    "ax[1].plot(range(1,num_of_beads_per_structure + 1),line_2_trans,color = 'orange')\n",
    "ax[1].set_xlabel('Genomic Position',fontsize = 7)\n",
    "ax[1].set_ylabel('number of trans contacts',fontsize = 10)\n",
    "ax[1].set_title('Number of trans contacts genome scale',fontsize = 10) \n",
    "\n",
    "\n",
    "\n",
    "#fig.savefig('')\n",
    "\n"
   ]
  },
  {
   "cell_type": "code",
   "execution_count": null,
   "id": "918f69db",
   "metadata": {},
   "outputs": [],
   "source": [
    "centro_beads_path = open('/exchange/helper_analysis/centrosomal_beads_list.pkl','rb')\n",
    "centro_beads = pickle.load(centro_beads_path)\n",
    "centro_beads_path.close()"
   ]
  },
  {
   "cell_type": "code",
   "execution_count": null,
   "id": "4aed0b72",
   "metadata": {},
   "outputs": [],
   "source": [
    "chromosomal_labels = ['chromosome 1','chromosome 2','chromosome 3','chromosome 4','chromosome 5',\n",
    "                      'chromosome 6','chromosome 7','chromosome 8','chromosome 9:22','chromosome 10',\n",
    "                      'chromosome 11','chromosome 12','chromosome 13','chromosome 14','chromosome 15',\n",
    "                     'chromosome 16','chromosome 17','chromosome 18','chromosome 19','chromosome 20',\n",
    "                     'chromosome 21','chromosome 22:9','chromosome X',]"
   ]
  },
  {
   "cell_type": "code",
   "execution_count": null,
   "id": "fd4a6ed7",
   "metadata": {},
   "outputs": [],
   "source": [
    "acro_beads_path = open('/exchange/helper_analysis/acro_lst.pkl','rb')\n",
    "acro_beads = pickle.load(acro_beads_path)\n",
    "acro_beads_path.close()"
   ]
  },
  {
   "cell_type": "markdown",
   "id": "ab46ff4e",
   "metadata": {},
   "source": [
    "### trans - genomic scale"
   ]
  },
  {
   "cell_type": "code",
   "execution_count": null,
   "id": "e46ec094",
   "metadata": {},
   "outputs": [],
   "source": [
    "fig,ax = plt.subplots(figsize = (20,5))\n",
    "\n",
    "\n",
    "fig.suptitle('Number of trans contacts genome scale')\n",
    "\n",
    "ax.plot(range(1,num_of_beads_per_structure + 1),line_1_trans,color = 'blue')\n",
    "ax.plot(range(1,num_of_beads_per_structure + 1),line_2_trans,color = 'orange')\n",
    "ax.set_xlabel('Genomic Position',fontsize = 10)\n",
    "ax.set_ylabel('number of cis contacts',fontsize = 10)\n",
    "\n",
    "#fig.savefig('')\n",
    "\n"
   ]
  },
  {
   "cell_type": "markdown",
   "id": "c497484b",
   "metadata": {},
   "source": [
    "### trans per chromosome"
   ]
  },
  {
   "cell_type": "code",
   "execution_count": null,
   "id": "cbee6cd3",
   "metadata": {},
   "outputs": [],
   "source": [
    "fig,ax = plt.subplots(23,1,figsize = (20,80))\n",
    "for i in range(23):\n",
    "    first = chromosomal_limits[i][0]\n",
    "    last = chromosomal_limits[i][1]\n",
    "    ax[i].scatter(range(first-1,last),line_1_trans[first-1:last],color = 'blue')\n",
    "    ax[i].scatter(range(first-1,last),line_2_trans[first-1:last],color = 'orange')\n",
    "    centro_first = centro_beads[i][0]\n",
    "    centro_last = centro_beads[i][1]\n",
    "    ax[i].scatter(range(centro_first-1,centro_last),[0]*(centro_last-centro_first+1),color = 'green')\n",
    "    ax[i].set_title(chromosomal_labels[i],fontsize = 10)\n",
    "    if i in [12,13,14,20,21]:\n",
    "        a_f = acro_beads[i][0]\n",
    "        a_l = acro_beads[i][-1]\n",
    "        ax[i].scatter(range(a_f,a_l),[0]*(a_l - a_f),color = 'black')\n",
    "        \n",
    "\n",
    "\n",
    "\n",
    "#fig.savefig('')"
   ]
  }
 ],
 "metadata": {
  "kernelspec": {
   "display_name": "Python 3 (ipykernel)",
   "language": "python",
   "name": "python3"
  },
  "language_info": {
   "codemirror_mode": {
    "name": "ipython",
    "version": 3
   },
   "file_extension": ".py",
   "mimetype": "text/x-python",
   "name": "python",
   "nbconvert_exporter": "python",
   "pygments_lexer": "ipython3",
   "version": "3.8.10"
  }
 },
 "nbformat": 4,
 "nbformat_minor": 5
}
