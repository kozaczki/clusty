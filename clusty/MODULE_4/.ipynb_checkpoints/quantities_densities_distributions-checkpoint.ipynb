{
 "cells": [
  {
   "cell_type": "markdown",
   "id": "95f91883",
   "metadata": {},
   "source": [
    "## Radial distribution - quantities and densities\n",
    "\n",
    "Plot Radial distribution of beads (their quantity and density)\n"
   ]
  },
  {
   "cell_type": "markdown",
   "id": "84454f57",
   "metadata": {},
   "source": [
    "### Libraries"
   ]
  },
  {
   "cell_type": "code",
   "execution_count": null,
   "id": "6e86a715",
   "metadata": {},
   "outputs": [],
   "source": [
    "import numpy as np\n",
    "import matplotlib.pyplot as plt\n",
    "import os"
   ]
  },
  {
   "cell_type": "markdown",
   "id": "86c8794a",
   "metadata": {},
   "source": [
    "### Functions"
   ]
  },
  {
   "cell_type": "code",
   "execution_count": null,
   "id": "ddcaaba2",
   "metadata": {},
   "outputs": [],
   "source": [
    "def quantity_per_one_structure(file,n):\n",
    "    '''takes a single structure, \n",
    "    divides it into n slices, each with thickness 1/n\n",
    "    returns number of beads per slice'''\n",
    "    csv = np.genfromtxt(file,delimiter=',')\n",
    "    ars = csv[:,3]\n",
    "    quantities = []\n",
    "    for i in range(n):\n",
    "        counter = 0\n",
    "        p1,p2 = i * (1/n) ,(i + 1) * (1/n)\n",
    "        for r in ars:\n",
    "            if r > p1 and r <= p2:\n",
    "                counter += 1\n",
    "        quantities.append(counter)\n",
    "    return quantities            "
   ]
  },
  {
   "cell_type": "code",
   "execution_count": null,
   "id": "ce76bdd8",
   "metadata": {},
   "outputs": [],
   "source": [
    "def quantities_per_line(folder,n):\n",
    "    quantities_per_line_list = []\n",
    "    files = os.listdir(folder)\n",
    "    for file in files:\n",
    "        file_path = os.path.join(folder,file)\n",
    "        quantity = quantity_per_one_structure(file_path,n)\n",
    "        quantities_per_line_list.append(quantity)\n",
    "    return np.array(quantities_per_line_list)"
   ]
  },
  {
   "cell_type": "code",
   "execution_count": null,
   "id": "34628215",
   "metadata": {},
   "outputs": [],
   "source": [
    "def density_per_one_structure(file,n):\n",
    "    csv = np.genfromtxt(file,delimiter=',')\n",
    "    ars = csv[:,3]\n",
    "    densities = []\n",
    "    for i in range(n):\n",
    "        counter = 0\n",
    "        p1,p2 = i * (1/n) ,(i + 1) * (1/n)\n",
    "        for r in ars:\n",
    "            if r > p1 and r <= p2:\n",
    "                counter += 1\n",
    "        density = counter / ( ((4/3)*3.14) * p2**3) - (((4/3)*3.14) * p1**3)\n",
    "        densities.append(density)\n",
    "        \n",
    "        \n",
    "    return densities        "
   ]
  },
  {
   "cell_type": "code",
   "execution_count": null,
   "id": "8669bf3a",
   "metadata": {},
   "outputs": [],
   "source": [
    "def densities_per_line(folder,n):\n",
    "    densities_per_line_list = []\n",
    "    files = os.listdir(folder)\n",
    "    for file in files:\n",
    "        file_path = os.path.join(folder,file)\n",
    "        density = density_per_one_structure(file_path,n)\n",
    "        densities_per_line_list.append(density)\n",
    "    return np.array(densities_per_line_list)"
   ]
  },
  {
   "cell_type": "markdown",
   "id": "710c9670",
   "metadata": {},
   "source": [
    "### Variables"
   ]
  },
  {
   "cell_type": "code",
   "execution_count": null,
   "id": "2694497c",
   "metadata": {},
   "outputs": [],
   "source": [
    "line_1_folder = '/exchange/DATASETS/HAP1/10000/'\n",
    "line_2_folder = '/exchange/DATASETS/HAP1/10000G/'"
   ]
  },
  {
   "cell_type": "code",
   "execution_count": null,
   "id": "99417f36",
   "metadata": {},
   "outputs": [],
   "source": [
    "line_1_name = 'HAP1'\n",
    "line_2_name = 'HAP1_G'"
   ]
  },
  {
   "cell_type": "code",
   "execution_count": null,
   "id": "cbf60a64",
   "metadata": {},
   "outputs": [],
   "source": [
    "n = 10"
   ]
  },
  {
   "cell_type": "markdown",
   "id": "5cbdba8e",
   "metadata": {},
   "source": [
    "### determine quantities"
   ]
  },
  {
   "cell_type": "code",
   "execution_count": null,
   "id": "bee9fce4",
   "metadata": {},
   "outputs": [],
   "source": [
    "line_1_Q = quantities_per_line(line_1_folder,n)\n",
    "line_2_Q = quantities_per_line(line_2_folder,n)"
   ]
  },
  {
   "cell_type": "markdown",
   "id": "015efe59",
   "metadata": {},
   "source": [
    "### determine densities"
   ]
  },
  {
   "cell_type": "code",
   "execution_count": null,
   "id": "0c66e6f1",
   "metadata": {},
   "outputs": [],
   "source": [
    "line_1_D = densities_per_line(line_1_folder,n)\n",
    "line_2_D = densities_per_line(line_2_folder,n)"
   ]
  },
  {
   "cell_type": "markdown",
   "id": "5584eb75",
   "metadata": {},
   "source": [
    "### Plot distribution of quantities per slice"
   ]
  },
  {
   "cell_type": "code",
   "execution_count": null,
   "id": "e5b2417f",
   "metadata": {},
   "outputs": [],
   "source": [
    "ticks = [str(i) for i in range(1,n+1)]\n",
    "\n",
    "def set_box_color(bp, color):\n",
    "    plt.setp(bp['boxes'], color=color)\n",
    "    plt.setp(bp['whiskers'], color=color)\n",
    "    plt.setp(bp['caps'], color=color)\n",
    "    plt.setp(bp['medians'], color=color)\n",
    "\n",
    "plt.figure(figsize = (20,10))\n",
    "\n",
    "bp1 = plt.boxplot(line_1_Q,positions=list(range(1,31,3)));\n",
    "bp2 = plt.boxplot(line_2_Q,positions=list(range(2,32,3)));\n",
    "\n",
    "set_box_color(bp1, 'blue') \n",
    "set_box_color(bp2, 'orange')\n",
    "\n",
    "plt.plot([], c='blue', label=line_1_name)\n",
    "plt.plot([], c='orange', label=line_2_name)\n",
    "\n",
    "plt.ylabel('number of beads in slice',fontsize = 30)\n",
    "plt.xlabel('slice #',fontsize = 30)\n",
    "\n",
    "\n",
    "plt.legend()\n",
    "plt.legend(fontsize=20) \n",
    "\n",
    "plt.xticks(range(2, (len(ticks) * 3)+2, 3),ticks)\n",
    "\n",
    "plt.tight_layout()\n",
    "#\n",
    "         \n",
    "plt.suptitle(\"Beads distribution - quantity\", fontsize = 33)\n",
    "plt.savefig('/exchange/plots/Fig1_quantites_comparision.png')"
   ]
  },
  {
   "cell_type": "markdown",
   "id": "a7082f48",
   "metadata": {},
   "source": [
    "### Plot mean quantities per slice"
   ]
  },
  {
   "cell_type": "code",
   "execution_count": null,
   "id": "acbe3f11",
   "metadata": {},
   "outputs": [],
   "source": [
    "ticks = [str(i) for i in range(1,n+1)]\n",
    "\n",
    "def set_box_color(bp, color):\n",
    "    plt.setp(bp['boxes'], color=color)\n",
    "    plt.setp(bp['whiskers'], color=color)\n",
    "    plt.setp(bp['caps'], color=color)\n",
    "    plt.setp(bp['medians'], color=color)\n",
    "\n",
    "plt.figure(figsize = (20,10))\n",
    "\n",
    "bp1 = plt.plot(range(1,11),line_1_Q.mean(axis = 0))\n",
    "bp2 = plt.plot(range(1,11),line_2_Q.mean(axis = 0))\n",
    "\n",
    "\n",
    "\n",
    "plt.plot([], c='blue', label=line_1_name)\n",
    "plt.plot([], c='orange', label=line_2_name)\n",
    "\n",
    "plt.ylabel('mean number of beads in slice',fontsize = 30)\n",
    "plt.xlabel('slice #',fontsize = 30)\n",
    "\n",
    "\n",
    "plt.legend()\n",
    "plt.legend(fontsize=20) \n",
    "\n",
    "\n",
    "\n",
    "plt.tight_layout()\n",
    "#plt.rcParams['axes.titley'] = 1.0 \n",
    "         \n",
    "plt.suptitle(\"Beads distribution - mean quantities\", fontsize = 33)\n",
    "plt.savefig('/exchange/plots/Fig2_mean_quantites_comparision.png') "
   ]
  },
  {
   "cell_type": "markdown",
   "id": "838b50df",
   "metadata": {},
   "source": [
    "### Plot distribution of densities per slice"
   ]
  },
  {
   "cell_type": "code",
   "execution_count": null,
   "id": "2d264a1d",
   "metadata": {},
   "outputs": [],
   "source": [
    "ticks = [str(i) for i in range(1,n+1)]\n",
    "\n",
    "def set_box_color(bp, color):\n",
    "    plt.setp(bp['boxes'], color=color)\n",
    "    plt.setp(bp['whiskers'], color=color)\n",
    "    plt.setp(bp['caps'], color=color)\n",
    "    plt.setp(bp['medians'], color=color)\n",
    "\n",
    "plt.figure(figsize = (20,10))\n",
    "\n",
    "bp1 = plt.boxplot(line_1_D,positions=list(range(1,31,3)));\n",
    "bp2 = plt.boxplot(line_2_D,positions=list(range(2,32,3)));\n",
    "\n",
    "set_box_color(bp1, 'blue') \n",
    "set_box_color(bp2, 'orange')\n",
    "\n",
    "plt.plot([], c='blue', label=line_1_name)\n",
    "plt.plot([], c='orange', label=line_2_name)\n",
    "\n",
    "plt.ylabel('beads density in slice',fontsize = 30)\n",
    "plt.xlabel('slice #',fontsize = 30)\n",
    "\n",
    "\n",
    "plt.legend()\n",
    "plt.legend(fontsize=20) \n",
    "\n",
    "plt.xticks(range(2, (len(ticks) * 3)+2, 3),ticks)\n",
    "\n",
    "plt.tight_layout()\n",
    "#plt.rcParams['axes.titley'] = 1.0 \n",
    "         \n",
    "plt.suptitle(\"Beads distribution - density\", fontsize = 33)\n",
    "plt.savefig('/exchange/plots/Fig3_quantites_comparision.png')"
   ]
  },
  {
   "cell_type": "markdown",
   "id": "7ecb111c",
   "metadata": {},
   "source": [
    "### Plot mean densities per slice"
   ]
  },
  {
   "cell_type": "code",
   "execution_count": null,
   "id": "a55e4c01",
   "metadata": {},
   "outputs": [],
   "source": [
    "def set_box_color(bp, color):\n",
    "    plt.setp(bp['boxes'], color=color)\n",
    "    plt.setp(bp['whiskers'], color=color)\n",
    "    plt.setp(bp['caps'], color=color)\n",
    "    plt.setp(bp['medians'], color=color)\n",
    "\n",
    "plt.figure(figsize = (20,10))\n",
    "\n",
    "bp1 = plt.plot(range(1,11),line_1_D.mean(axis = 0))\n",
    "bp2 = plt.plot(range(1,11),line_2_D.mean(axis = 0))\n",
    "\n",
    "\n",
    "\n",
    "plt.plot([], c='blue', label=line_1_name)\n",
    "plt.plot([], c='orange', label=line_2_name)\n",
    "\n",
    "plt.ylabel('number of beads in slice',fontsize = 30)\n",
    "plt.xlabel('slice #',fontsize = 30)\n",
    "\n",
    "\n",
    "plt.legend()\n",
    "plt.legend(fontsize=20) \n",
    "plt.xticks(range(1,11))\n",
    "\n",
    "\n",
    "plt.tight_layout()\n",
    "#plt.rcParams['axes.titley'] = 1.0 \n",
    "         \n",
    "plt.suptitle(\"Beads distribution - mean densities\", fontsize = 33)\n",
    "plt.savefig('/exchange/plots/Fig4_mean_densities_comparision.png') "
   ]
  }
 ],
 "metadata": {
  "kernelspec": {
   "display_name": "Python 3 (ipykernel)",
   "language": "python",
   "name": "python3"
  },
  "language_info": {
   "codemirror_mode": {
    "name": "ipython",
    "version": 3
   },
   "file_extension": ".py",
   "mimetype": "text/x-python",
   "name": "python",
   "nbconvert_exporter": "python",
   "pygments_lexer": "ipython3",
   "version": "3.8.10"
  }
 },
 "nbformat": 4,
 "nbformat_minor": 5
}
