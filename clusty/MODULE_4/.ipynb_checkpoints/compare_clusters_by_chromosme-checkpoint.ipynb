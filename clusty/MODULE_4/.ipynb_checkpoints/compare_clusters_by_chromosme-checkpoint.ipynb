{
 "cells": [
  {
   "cell_type": "markdown",
   "id": "edcd3694",
   "metadata": {},
   "source": [
    "## Clusters Distribution - Chromosomes"
   ]
  },
  {
   "cell_type": "code",
   "execution_count": null,
   "id": "b8546bca",
   "metadata": {},
   "outputs": [],
   "source": [
    "import numpy as np\n",
    "import pickle\n",
    "import matplotlib.pyplot as plt"
   ]
  },
  {
   "cell_type": "markdown",
   "id": "e774d2db",
   "metadata": {},
   "source": [
    "### Cluster numbers (diversity)"
   ]
  },
  {
   "cell_type": "code",
   "execution_count": null,
   "id": "86ba86a8",
   "metadata": {},
   "outputs": [],
   "source": [
    "line_1_neighbours = '/exchange/PROJECT/runs/HAP1_10000_neighbours_10/results/HAP1_10000_neighbours_10_clusters_simple_filtered'\n",
    "line_1_neighbours_file =open(line_1_neighbours,'rb')\n",
    "line_1_neighbours= pickle.load(line_1_neighbours_file)"
   ]
  },
  {
   "cell_type": "code",
   "execution_count": null,
   "id": "74540b9f",
   "metadata": {},
   "outputs": [],
   "source": [
    "line_2_neighbours  = '/exchange/PROJECT/runs/HAP1_10000G_neighbours_10/results/HAP1_10000G_neighbours_10_clusters_simple_filtered'\n",
    "line_2_neighbours_file =open(line_2_neighbours ,'rb')\n",
    "line_2_neighbours  = pickle.load(line_2_neighbours_file )"
   ]
  },
  {
   "cell_type": "code",
   "execution_count": null,
   "id": "e19aa15b",
   "metadata": {},
   "outputs": [],
   "source": [
    "line_1_num = np.array([len(i[1]) for i in line_1_neighbours])\n",
    "line_2_num = np.array([len(i[1]) for i in line_2_neighbours])"
   ]
  },
  {
   "cell_type": "code",
   "execution_count": null,
   "id": "38bd2959",
   "metadata": {},
   "outputs": [],
   "source": [
    "number_of_beads_per_structure = 3043"
   ]
  },
  {
   "cell_type": "markdown",
   "id": "acf6ca96",
   "metadata": {},
   "source": [
    "### Cluster frequency"
   ]
  },
  {
   "cell_type": "code",
   "execution_count": null,
   "id": "672ce0c6",
   "metadata": {},
   "outputs": [],
   "source": [
    "line_1_distro = np.load('/exchange/PROJECT/runs/HAP1_10000_neighbours_10/intermediate/HAP1_10000_neighbours_10_distro_matrix.npy')"
   ]
  },
  {
   "cell_type": "code",
   "execution_count": null,
   "id": "4d419cb8",
   "metadata": {},
   "outputs": [],
   "source": [
    "line_2_distro = np.load('/exchange/PROJECT/runs/HAP1_10000G_neighbours_10/intermediate/HAP1_10000G_neighbours_10_distro_matrix.npy')"
   ]
  },
  {
   "cell_type": "code",
   "execution_count": null,
   "id": "292ebf3e",
   "metadata": {},
   "outputs": [],
   "source": [
    "line_1_freq = line_1_distro.sum(axis = 0)[:number_of_beads_per_structure]"
   ]
  },
  {
   "cell_type": "code",
   "execution_count": null,
   "id": "a56e5d17",
   "metadata": {},
   "outputs": [],
   "source": [
    "line_2_freq = line_2_distro.sum(axis = 0)[:number_of_beads_per_structure]"
   ]
  },
  {
   "cell_type": "code",
   "execution_count": null,
   "id": "6486207b",
   "metadata": {},
   "outputs": [],
   "source": [
    "chromosomal_labels = ['chromosome 1','chromosome 2','chromosome 3','chromosome 4','chromosome 5',\n",
    "                      'chromosome 6','chromosome 7','chromosome 8','chromosome 9:22','chromosome 10',\n",
    "                      'chromosome 11','chromosome 12','chromosome 13','chromosome 14','chromosome 15',\n",
    "                     'chromosome 16','chromosome 17','chromosome 18','chromosome 19','chromosome 20',\n",
    "                     'chromosome 21','chromosome 22:9','chromosome X']"
   ]
  },
  {
   "cell_type": "code",
   "execution_count": null,
   "id": "d1e6e292",
   "metadata": {},
   "outputs": [],
   "source": [
    "borders = np.load('/exchange/PROJECT/helper_data/borders3043.npy')\n",
    "limits = list(np.unique(borders))\n",
    "chromosomal_limits = []\n",
    "\n",
    "for i in range(23):\n",
    "    first_bead = limits[i*2]\n",
    "    last_bead = limits[i*2+1]\n",
    "    chromosomal_limits.append((first_bead,last_bead))"
   ]
  },
  {
   "cell_type": "markdown",
   "id": "56603b7b",
   "metadata": {},
   "source": [
    "### cluster numbers per bead - by chromosome"
   ]
  },
  {
   "cell_type": "code",
   "execution_count": null,
   "id": "0a7ab31a",
   "metadata": {},
   "outputs": [],
   "source": [
    "fig,ax = plt.subplots(23,1,figsize = (20,80))\n",
    "\n",
    "\n",
    "\n",
    "for i in range(23):\n",
    "    first = chromosomal_limits[i][0]\n",
    "    last = chromosomal_limits[i][1]\n",
    "#     centro_first = centro_beads[i][0]\n",
    "#     centro_last = centro_beads[i][1]\n",
    "    ax[i].scatter(range(first-1,last),line_1_num[first-1:last],color = 'blue')\n",
    "    ax[i].scatter(range(first-1,last),line_2_num[first-1:last],color = 'orange')\n",
    "    #[i].scatter(range(first-1,last),(rads_10000G.mean(axis = 0)-rads_10000.mean(axis = 0))[first-1:last],color = 'red')\n",
    "#     ax[i].scatter(range(centro_first-1,centro_last),[0]*(centro_last-centro_first+1),color = 'green')\n",
    "#     if i in [12,13,14,20,21]:\n",
    "#         a_f = acro_beads[i][0]\n",
    "#         a_l = acro_beads[i][-1]\n",
    "#         ax[i].scatter(range(a_f,a_l),[0]*(a_l - a_f),color = 'black')\n",
    "        \n",
    "    \n",
    "    \n",
    "    \n",
    "    \n",
    "    ax[i].set_title(chromosomal_labels[i],fontsize = 10)"
   ]
  },
  {
   "cell_type": "markdown",
   "id": "c56c2af3",
   "metadata": {},
   "source": [
    "### cluster frequency per bead - by chromosome"
   ]
  },
  {
   "cell_type": "code",
   "execution_count": null,
   "id": "f02abc4c",
   "metadata": {},
   "outputs": [],
   "source": [
    "fig,ax = plt.subplots(23,1,figsize = (20,80))\n",
    "\n",
    "\n",
    "\n",
    "for i in range(23):\n",
    "    first = chromosomal_limits[i][0]\n",
    "    last = chromosomal_limits[i][1]\n",
    "#     centro_first = centro_beads[i][0]\n",
    "#     centro_last = centro_beads[i][1]\n",
    "    ax[i].scatter(range(first-1,last),line_1_freq[first-1:last],color = 'blue')\n",
    "    ax[i].scatter(range(first-1,last),line_2_freq[first-1:last],color = 'orange')\n",
    "    #[i].scatter(range(first-1,last),(rads_10000G.mean(axis = 0)-rads_10000.mean(axis = 0))[first-1:last],color = 'red')\n",
    "#     ax[i].scatter(range(centro_first-1,centro_last),[0]*(centro_last-centro_first+1),color = 'green')\n",
    "#     if i in [12,13,14,20,21]:\n",
    "#         a_f = acro_beads[i][0]\n",
    "#         a_l = acro_beads[i][-1]\n",
    "#         ax[i].scatter(range(a_f,a_l),[0]*(a_l - a_f),color = 'black')\n",
    "        \n",
    "    \n",
    "    \n",
    "    \n",
    "    \n",
    "    ax[i].set_title(chromosomal_labels[i],fontsize = 10)"
   ]
  },
  {
   "cell_type": "markdown",
   "id": "13c4daef",
   "metadata": {},
   "source": [
    "### difference between lines - cluster numbers - increase in HAP1G"
   ]
  },
  {
   "cell_type": "code",
   "execution_count": null,
   "id": "1bc6dd00",
   "metadata": {},
   "outputs": [],
   "source": [
    "\n",
    "\n",
    "fig,ax = plt.subplots(23,1,figsize = (20,80))\n",
    "\n",
    "\n",
    "\n",
    "for i in range(23):\n",
    "    first = chromosomal_limits[i][0]\n",
    "    last = chromosomal_limits[i][1]\n",
    "#     centro_first = centro_beads[i][0]\n",
    "#     centro_last = centro_beads[i][1]\n",
    "    ax[i].scatter(range(first-1,last),(line_2_num - line_1_num)[first-1:last],color = 'blue')\n",
    "\n",
    "    #[i].scatter(range(first-1,last),(rads_10000G.mean(axis = 0)-rads_10000.mean(axis = 0))[first-1:last],color = 'red')\n",
    "#     ax[i].scatter(range(centro_first-1,centro_last),[0]*(centro_last-centro_first+1),color = 'green')\n",
    "#     if i in [12,13,14,20,21]:\n",
    "#         a_f = acro_beads[i][0]\n",
    "#         a_l = acro_beads[i][-1]\n",
    "#         ax[i].scatter(range(a_f,a_l),[0]*(a_l - a_f),color = 'black')\n",
    "        \n",
    "    \n",
    "    \n",
    "    \n",
    "    \n",
    "    ax[i].set_title(chromosomal_labels[i],fontsize = 10)"
   ]
  },
  {
   "cell_type": "markdown",
   "id": "f1d0a20c",
   "metadata": {},
   "source": [
    "### difference between lines - cluster frequency - increase in HAP1G"
   ]
  },
  {
   "cell_type": "code",
   "execution_count": null,
   "id": "4919aa5b",
   "metadata": {},
   "outputs": [],
   "source": [
    "fig,ax = plt.subplots(23,1,figsize = (20,80))\n",
    "\n",
    "\n",
    "\n",
    "for i in range(23):\n",
    "    first = chromosomal_limits[i][0]\n",
    "    last = chromosomal_limits[i][1]\n",
    "\n",
    "    ax[i].scatter(range(first-1,last),line_2_freq[first-1:last] - line_1_freq[first-1:last],color = 'blue')\n",
    "\n",
    "    #[i].scatter(range(first-1,last),(rads_10000G.mean(axis = 0)-rads_10000.mean(axis = 0))[first-1:last],color = 'red')\n",
    "#     ax[i].scatter(range(centro_first-1,centro_last),[0]*(centro_last-centro_first+1),color = 'green')\n",
    "#     if i in [12,13,14,20,21]:\n",
    "#         a_f = acro_beads[i][0]\n",
    "#         a_l = acro_beads[i][-1]\n",
    "#         ax[i].scatter(range(a_f,a_l),[0]*(a_l - a_f),color = 'black')\n",
    "        \n",
    "    \n",
    "    \n",
    "    \n",
    "    \n",
    "    ax[i].set_title(chromosomal_labels[i],fontsize = 10)"
   ]
  }
 ],
 "metadata": {
  "kernelspec": {
   "display_name": "Python 3 (ipykernel)",
   "language": "python",
   "name": "python3"
  },
  "language_info": {
   "codemirror_mode": {
    "name": "ipython",
    "version": 3
   },
   "file_extension": ".py",
   "mimetype": "text/x-python",
   "name": "python",
   "nbconvert_exporter": "python",
   "pygments_lexer": "ipython3",
   "version": "3.8.10"
  }
 },
 "nbformat": 4,
 "nbformat_minor": 5
}
