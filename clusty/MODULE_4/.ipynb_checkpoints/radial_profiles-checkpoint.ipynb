{
 "cells": [
  {
   "cell_type": "markdown",
   "id": "2aac3717",
   "metadata": {},
   "source": [
    "## Radial profiles\n",
    "\n",
    "Plots mean radial position of each bead on genomic scale and single chromosome scale\n",
    "\n",
    "blue - line 1\n",
    "orange - line 2\n",
    "\n",
    "red - difference betweeen line 1 and line 2\n",
    "green - centromeric beads\n",
    "black - short arms of acrocentric\n",
    "\n",
    "\n"
   ]
  },
  {
   "cell_type": "markdown",
   "id": "25131a8d",
   "metadata": {},
   "source": [
    "### Libraries"
   ]
  },
  {
   "cell_type": "code",
   "execution_count": null,
   "id": "3a71fcbf",
   "metadata": {},
   "outputs": [],
   "source": [
    "import numpy as np\n",
    "import matplotlib.pyplot as plt\n",
    "import os\n",
    "import pickle"
   ]
  },
  {
   "cell_type": "markdown",
   "id": "dd4daa76",
   "metadata": {},
   "source": [
    "### Functions"
   ]
  },
  {
   "cell_type": "code",
   "execution_count": null,
   "id": "7b080178",
   "metadata": {},
   "outputs": [],
   "source": [
    "def read_radiuses(folder,number_of_structures,number_of_beads):\n",
    "    radiuses = np.zeros((number_of_structures,number_of_beads))\n",
    "    i = 0\n",
    "    for file in os.listdir(folder):\n",
    "        r = np.genfromtxt(os.path.join(folder,file),delimiter=',')[:,3]\n",
    "        radiuses[i] = r\n",
    "        i = i+1\n",
    "        \n",
    "    return radiuses\n"
   ]
  },
  {
   "cell_type": "markdown",
   "id": "b55c7268",
   "metadata": {},
   "source": [
    "### read and save radiuses"
   ]
  },
  {
   "cell_type": "code",
   "execution_count": null,
   "id": "c492fe8b",
   "metadata": {},
   "outputs": [],
   "source": [
    "line_1_name = 'HAP1'\n",
    "line_2_name = 'HAP1_G'"
   ]
  },
  {
   "cell_type": "code",
   "execution_count": null,
   "id": "8649da30",
   "metadata": {},
   "outputs": [],
   "source": [
    "line_1_structures_folder = '/exchange/DATASETS/HAP1/10000/'"
   ]
  },
  {
   "cell_type": "code",
   "execution_count": null,
   "id": "578eeca4",
   "metadata": {},
   "outputs": [],
   "source": [
    "line_2_structures_folder = '/exchange/DATASETS/HAP1/10000G/'"
   ]
  },
  {
   "cell_type": "code",
   "execution_count": null,
   "id": "55754c28",
   "metadata": {},
   "outputs": [],
   "source": [
    "num_of_structures = 10000"
   ]
  },
  {
   "cell_type": "code",
   "execution_count": null,
   "id": "d18b820d",
   "metadata": {},
   "outputs": [],
   "source": [
    "beads_per_structure = 3043"
   ]
  },
  {
   "cell_type": "code",
   "execution_count": null,
   "id": "56b15db7",
   "metadata": {},
   "outputs": [],
   "source": [
    "borders_file = '/exchange/PROJECT/helper_data/borders3043.npy'"
   ]
  },
  {
   "cell_type": "code",
   "execution_count": null,
   "id": "2a1ab1f3",
   "metadata": {},
   "outputs": [],
   "source": [
    "line_1_radiuses= read_radiuses(line_1_structures_folder,num_of_structures,beads_per_structure)"
   ]
  },
  {
   "cell_type": "code",
   "execution_count": null,
   "id": "c3d30431",
   "metadata": {},
   "outputs": [],
   "source": [
    "np.save('/exchange/helper_analysis/line_1_radiuses',line_1_radiuses)"
   ]
  },
  {
   "cell_type": "code",
   "execution_count": null,
   "id": "d20ab090",
   "metadata": {},
   "outputs": [],
   "source": [
    "line_2_radiuses = read_radiuses(line_2_structures_folder,num_of_structures,beads_per_structure)"
   ]
  },
  {
   "cell_type": "code",
   "execution_count": null,
   "id": "9fb1dd97",
   "metadata": {},
   "outputs": [],
   "source": [
    "np.save('/exchange/helper_analysis/radiusesG',line_1_radiuses)"
   ]
  },
  {
   "cell_type": "markdown",
   "id": "966557d4",
   "metadata": {},
   "source": [
    "### Plot radial distance per bead - Genome scale"
   ]
  },
  {
   "cell_type": "code",
   "execution_count": null,
   "id": "5e4b8bed",
   "metadata": {},
   "outputs": [],
   "source": [
    "fig,ax = plt.subplots(2,1,figsize = (20,20))\n",
    "fig.suptitle('Comparison of radial distribution - mean values per bead', fontsize = 30)\n",
    "ax[0].scatter(range(1,3044),line_1_radiuses.mean(axis = 0),)\n",
    "ax[0].set_title(line_1_name,fontsize = 30)\n",
    "ax[0].set_xlabel('Genomic Position',fontsize = 25)\n",
    "ax[0].set_ylabel('Distance from the center',fontsize = 25)\n",
    "ax[0].scatter(range(1,3044),line_1_radiuses.mean(axis = 0),color = 'blue')\n",
    "ax[1].scatter(range(1,3044),line_2_radiuses.mean(axis = 0),color = 'orange')\n",
    "ax[1].set_title(line_2_name,fontsize=30)\n",
    "ax[1].set_xlabel('Genomic Position',fontsize = 25)\n",
    "ax[1].set_ylabel('Distance from the center',fontsize = 25)\n",
    "fig.savefig('/exchange/plots/Fig_5_radial.png')"
   ]
  },
  {
   "cell_type": "code",
   "execution_count": null,
   "id": "57b0c6d2",
   "metadata": {},
   "outputs": [],
   "source": [
    "borders = np.load(borders_file)\n",
    "limits = list(np.unique(borders))\n",
    "chromosomal_limits = []\n",
    "\n",
    "for i in range(23):\n",
    "    first_bead = limits[i*2]\n",
    "    last_bead = limits[i*2+1]\n",
    "    chromosomal_limits.append((first_bead,last_bead))"
   ]
  },
  {
   "cell_type": "code",
   "execution_count": null,
   "id": "1d155698",
   "metadata": {},
   "outputs": [],
   "source": [
    "centro_beads_path = open('/exchange/helper_analysis/centrosomal_beads_list.pkl','rb')\n",
    "centro_beads = pickle.load(centro_beads_path)\n",
    "centro_beads_path.close()"
   ]
  },
  {
   "cell_type": "code",
   "execution_count": null,
   "id": "7b71264a",
   "metadata": {},
   "outputs": [],
   "source": [
    "acro_beads_path = open('/exchange/helper_analysis/acro_lst.pkl','rb')\n",
    "acro_beads = pickle.load(acro_beads_path)\n",
    "acro_beads_path.close()"
   ]
  },
  {
   "cell_type": "code",
   "execution_count": null,
   "id": "ad0e3897",
   "metadata": {},
   "outputs": [],
   "source": [
    "chromosomal_labels = ['chromosome 1','chromosome 2','chromosome 3','chromosome 4','chromosome 5',\n",
    "                      'chromosome 6','chromosome 7','chromosome 8','chromosome 9:22','chromosome 10',\n",
    "                      'chromosome 11','chromosome 12','chromosome 13','chromosome 14','chromosome 15',\n",
    "                     'chromosome 16','chromosome 17','chromosome 18','chromosome 19','chromosome 20',\n",
    "                     'chromosome 21','chromosome 22:9','chromosome X']"
   ]
  },
  {
   "cell_type": "code",
   "execution_count": null,
   "id": "89e078ad",
   "metadata": {
    "scrolled": false
   },
   "outputs": [],
   "source": [
    "fig,ax = plt.subplots(12,2,figsize = (20,80))\n",
    "\n",
    "\n",
    "\n",
    "for i in range(23):\n",
    "    first = chromosomal_limits[i][0]\n",
    "    last = chromosomal_limits[i][1]\n",
    "    centro_first = centro_beads[i][0]\n",
    "    centro_last = centro_beads[i][1]\n",
    "    ax[int(i%12)][int(i/12)].scatter(range(first-1,last),line_1_radiuses.mean(axis = 0)[first-1:last],color = 'blue')\n",
    "    ax[int(i%12)][int(i/12)].scatter(range(first-1,last),line_2_radiuses.mean(axis = 0)[first-1:last],color = 'orange')\n",
    "    ax[int(i%12)][int(i/12)].scatter(range(first-1,last),(line_2_radiuses.mean(axis = 0)-line_1_radiuses.mean(axis = 0))[first-1:last],color = 'red')\n",
    "    ax[int(i%12)][int(i/12)].scatter(range(centro_first-1,centro_last),[0]*(centro_last-centro_first+1),color = 'green')\n",
    "    if i in [12,13,14,20,21]:\n",
    "        a_f = acro_beads[i][0]\n",
    "        a_l = acro_beads[i][-1]\n",
    "        ax[int(i%12)][int(i/12)].scatter(range(a_f,a_l),[0]*(a_l - a_f),color = 'black')\n",
    "        \n",
    "    \n",
    "    \n",
    "    \n",
    "    \n",
    "    ax[int(i%12)][int(i/12)].set_title(chromosomal_labels[i],fontsize = 10)\n",
    "    ax[11][1].axis('off')\n",
    "\n",
    "lines_labels = [ax.get_legend_handles_labels() for ax in fig.axes]\n",
    "lines, labels = [sum(lol, []) for lol in zip(*lines_labels)]\n",
    "fig.legend( lines, labels, loc = (0.5, 0), ncol=5 )\n",
    "fig.tight_layout()  \n",
    "\n",
    "fig.savefig('/exchange/plots/Fig_radialprofiles_chromosomes.png')\n"
   ]
  },
  {
   "cell_type": "code",
   "execution_count": null,
   "id": "2c613fea",
   "metadata": {
    "scrolled": false
   },
   "outputs": [],
   "source": [
    "\n",
    "fig,ax = plt.subplots(4,2,figsize = (8.27,11.69),dpi = 450)\n",
    "\n",
    "\n",
    "\n",
    "for i in range(8):\n",
    "    first = chromosomal_limits[i][0]\n",
    "    last = chromosomal_limits[i][1]\n",
    "    centro_first = centro_beads[i][0]\n",
    "    centro_last = centro_beads[i][1]\n",
    "    ax[int(i%4)][int(i/4)].scatter(range(first-1,last),line_1_radiuses.mean(axis = 0)[first-1:last],color = 'blue')\n",
    "    ax[int(i%4)][int(i/4)].scatter(range(first-1,last),line_2_radiuses.mean(axis = 0)[first-1:last],color = 'orange')\n",
    "    ax[int(i%4)][int(i/4)].scatter(range(first-1,last),(line_2_radiuses.mean(axis = 0)-line_1_radiuses.mean(axis = 0))[first-1:last],color = 'red')\n",
    "    ax[int(i%4)][int(i/4)].scatter(range(centro_first-1,centro_last),[0]*(centro_last-centro_first+1),color = 'green')\n",
    "    if i in [12,13,14,20,21]:\n",
    "        a_f = acro_beads[i][0]\n",
    "        a_l = acro_beads[i][-1]\n",
    "        ax[int(i%4)][int(i/4)].scatter(range(a_f,a_l),[0]*(a_l - a_f),color = 'black')\n",
    "\n",
    "        \n",
    "    \n",
    "    \n",
    "    \n",
    "    \n",
    "    ax[int(i%4)][int(i/4)].set_title(chromosomal_labels[i],fontsize = 10)\n",
    "\n",
    "fig.tight_layout()  \n",
    "\n",
    "fig.savefig('/exchange/plots/FigA6_radialprofiles_chromosomes_1-8.png')\n"
   ]
  },
  {
   "cell_type": "code",
   "execution_count": null,
   "id": "bb1b2694",
   "metadata": {},
   "outputs": [],
   "source": [
    "fig,ax = plt.subplots(4,2,figsize = (8.27,11.69),dpi = 450)\n",
    "\n",
    "\n",
    "\n",
    "for i in range(8,16):\n",
    "    first = chromosomal_limits[i][0]\n",
    "    last = chromosomal_limits[i][1]\n",
    "    centro_first = centro_beads[i][0]\n",
    "    centro_last = centro_beads[i][1]\n",
    "    ax[int(i%4)][int(i/4)-2].scatter(range(first-1,last),line_1_radiuses.mean(axis = 0)[first-1:last],color = 'blue')\n",
    "    ax[int(i%4)][int(i/4)-2].scatter(range(first-1,last),line_2_radiuses.mean(axis = 0)[first-1:last],color = 'orange')\n",
    "    ax[int(i%4)][int(i/4)-2].scatter(range(first-1,last),(line_2_radiuses.mean(axis = 0)-line_1_radiuses.mean(axis = 0))[first-1:last],color = 'red')\n",
    "    ax[int(i%4)][int(i/4)-2].scatter(range(centro_first-1,centro_last),[0]*(centro_last-centro_first+1),color = 'green')\n",
    "    if i in [12,13,14,20,21]:\n",
    "        a_f = acro_beads[i][0]\n",
    "        a_l = acro_beads[i][-1]\n",
    "        ax[int(i%4)][int(i/4)-2].scatter(range(a_f,a_l),[0]*(a_l - a_f),color = 'black')\n",
    "        \n",
    "    \n",
    "    \n",
    "    \n",
    "    \n",
    "    ax[int(i%4)][int(i/4)-2].set_title(chromosomal_labels[i],fontsize = 10)\n",
    "    #ax[11][1].axis('off')\n",
    "fig.tight_layout()  \n",
    "\n",
    "fig.savefig('/exchange/plots/FigA6_radialprofiles_chromosomes_9-16.png')"
   ]
  },
  {
   "cell_type": "code",
   "execution_count": null,
   "id": "064d3225",
   "metadata": {},
   "outputs": [],
   "source": [
    "fig,ax = plt.subplots(4,2,figsize = (8.27,11.69),dpi = 450)\n",
    "\n",
    "\n",
    "\n",
    "for i in range(16,23):\n",
    "    first = chromosomal_limits[i][0]\n",
    "    last = chromosomal_limits[i][1]\n",
    "    centro_first = centro_beads[i][0]\n",
    "    centro_last = centro_beads[i][1]\n",
    "    ax[int(i%4)][int(i/4)-4].scatter(range(first-1,last),line_1_radiuses.mean(axis = 0)[first-1:last],color = 'blue')\n",
    "    ax[int(i%4)][int(i/4)-4].scatter(range(first-1,last),line_2_radiuses.mean(axis = 0)[first-1:last],color = 'orange')\n",
    "    ax[int(i%4)][int(i/4)-4].scatter(range(first-1,last),(line_2_radiuses.mean(axis = 0)-line_1_radiuses.mean(axis = 0))[first-1:last],color = 'red')\n",
    "    ax[int(i%4)][int(i/4)-4].scatter(range(centro_first-1,centro_last),[0]*(centro_last-centro_first+1),color = 'green')\n",
    "    if i in [12,13,14,20,21]:\n",
    "        a_f = acro_beads[i][0]\n",
    "        a_l = acro_beads[i][-1]\n",
    "        ax[int(i%4)][int(i/4)-4].scatter(range(a_f,a_l),[0]*(a_l - a_f),color = 'black')\n",
    "        \n",
    "    \n",
    "    \n",
    "    \n",
    "    \n",
    "    ax[int(i%4)][int(i/4)-4].set_title(chromosomal_labels[i],fontsize = 10)\n",
    "    ax[3][1].axis('off')\n",
    "fig.tight_layout()  \n",
    "\n",
    "fig.savefig('/exchange/plots/FigA6_radialprofiles_chromosomes_17-X.png')"
   ]
  }
 ],
 "metadata": {
  "kernelspec": {
   "display_name": "Python 3 (ipykernel)",
   "language": "python",
   "name": "python3"
  },
  "language_info": {
   "codemirror_mode": {
    "name": "ipython",
    "version": 3
   },
   "file_extension": ".py",
   "mimetype": "text/x-python",
   "name": "python",
   "nbconvert_exporter": "python",
   "pygments_lexer": "ipython3",
   "version": "3.8.10"
  }
 },
 "nbformat": 4,
 "nbformat_minor": 5
}
